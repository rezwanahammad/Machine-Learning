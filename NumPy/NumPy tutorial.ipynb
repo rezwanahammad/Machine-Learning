{
 "cells": [
  {
   "cell_type": "code",
   "execution_count": 1,
   "id": "ebb1b668-92f4-4165-b297-899efe2bd1eb",
   "metadata": {},
   "outputs": [],
   "source": [
    "import numpy as np"
   ]
  },
  {
   "cell_type": "code",
   "execution_count": 3,
   "id": "63b0d395-3eee-4e06-a507-3a5c8242f15c",
   "metadata": {},
   "outputs": [
    {
     "name": "stdout",
     "output_type": "stream",
     "text": [
      "[1 2 3]\n"
     ]
    }
   ],
   "source": [
    "arr=np.array([1,2,3])\n",
    "print(arr)"
   ]
  },
  {
   "cell_type": "code",
   "execution_count": 4,
   "id": "b7262366-b8d5-408a-be06-40308c41b484",
   "metadata": {},
   "outputs": [
    {
     "name": "stdout",
     "output_type": "stream",
     "text": [
      "[[2.3 4.5]\n",
      " [1.  3. ]]\n"
     ]
    }
   ],
   "source": [
    "arrtwo=np.array([[2.3,4.5],[1,3]])\n",
    "print(arrtwo)"
   ]
  },
  {
   "cell_type": "code",
   "execution_count": 5,
   "id": "95e4b723-c1a8-4ba4-9385-e8677e2a5c0b",
   "metadata": {},
   "outputs": [
    {
     "data": {
      "text/plain": [
       "1"
      ]
     },
     "execution_count": 5,
     "metadata": {},
     "output_type": "execute_result"
    }
   ],
   "source": [
    "arr.ndim"
   ]
  },
  {
   "cell_type": "code",
   "execution_count": 6,
   "id": "0a1c8bc1-42c7-432a-836a-6d9a240ffd6f",
   "metadata": {},
   "outputs": [
    {
     "data": {
      "text/plain": [
       "2"
      ]
     },
     "execution_count": 6,
     "metadata": {},
     "output_type": "execute_result"
    }
   ],
   "source": [
    "arrtwo.ndim"
   ]
  },
  {
   "cell_type": "code",
   "execution_count": 8,
   "id": "df44dd30-3e84-4cde-ba99-026f16f9c628",
   "metadata": {},
   "outputs": [
    {
     "data": {
      "text/plain": [
       "(2, 2)"
      ]
     },
     "execution_count": 8,
     "metadata": {},
     "output_type": "execute_result"
    }
   ],
   "source": [
    "arrtwo.shape"
   ]
  },
  {
   "cell_type": "code",
   "execution_count": 10,
   "id": "a906b3f5-b746-4954-b4a9-93a4a3214478",
   "metadata": {},
   "outputs": [
    {
     "data": {
      "text/plain": [
       "dtype('int64')"
      ]
     },
     "execution_count": 10,
     "metadata": {},
     "output_type": "execute_result"
    }
   ],
   "source": [
    "arr.dtype"
   ]
  },
  {
   "cell_type": "code",
   "execution_count": 12,
   "id": "134de427-5439-459a-9e5d-2817b817710c",
   "metadata": {},
   "outputs": [
    {
     "data": {
      "text/plain": [
       "array([[0., 0., 0.],\n",
       "       [0., 0., 0.]])"
      ]
     },
     "execution_count": 12,
     "metadata": {},
     "output_type": "execute_result"
    }
   ],
   "source": [
    "np.zeros((2,3))"
   ]
  },
  {
   "cell_type": "code",
   "execution_count": 13,
   "id": "40b1ebe2-9310-45a5-8788-c56e453d4668",
   "metadata": {},
   "outputs": [
    {
     "data": {
      "text/plain": [
       "array([[0.30827105, 0.96886083, 0.26307392, 0.25620817],\n",
       "       [0.41575526, 0.29294198, 0.9464583 , 0.57693981],\n",
       "       [0.55388655, 0.82874432, 0.65716405, 0.96874054],\n",
       "       [0.71479233, 0.92594002, 0.30824191, 0.05002775]])"
      ]
     },
     "execution_count": 13,
     "metadata": {},
     "output_type": "execute_result"
    }
   ],
   "source": [
    "np.random.rand(4,4)"
   ]
  },
  {
   "cell_type": "code",
   "execution_count": 14,
   "id": "d379fb48-ffdc-474c-9f99-6539ffffa164",
   "metadata": {},
   "outputs": [
    {
     "data": {
      "text/plain": [
       "array([[2, 2, 2],\n",
       "       [0, 3, 0],\n",
       "       [5, 4, 6]], dtype=int32)"
      ]
     },
     "execution_count": 14,
     "metadata": {},
     "output_type": "execute_result"
    }
   ],
   "source": [
    "np.random.randint(7,size=(3,3))"
   ]
  },
  {
   "cell_type": "code",
   "execution_count": 15,
   "id": "f9ccdcb6-8b36-4a52-a00b-3e1b24537970",
   "metadata": {},
   "outputs": [
    {
     "data": {
      "text/plain": [
       "array([[1., 0., 0., 0., 0., 0., 0., 0., 0.],\n",
       "       [0., 1., 0., 0., 0., 0., 0., 0., 0.],\n",
       "       [0., 0., 1., 0., 0., 0., 0., 0., 0.],\n",
       "       [0., 0., 0., 1., 0., 0., 0., 0., 0.],\n",
       "       [0., 0., 0., 0., 1., 0., 0., 0., 0.],\n",
       "       [0., 0., 0., 0., 0., 1., 0., 0., 0.],\n",
       "       [0., 0., 0., 0., 0., 0., 1., 0., 0.],\n",
       "       [0., 0., 0., 0., 0., 0., 0., 1., 0.],\n",
       "       [0., 0., 0., 0., 0., 0., 0., 0., 1.]])"
      ]
     },
     "execution_count": 15,
     "metadata": {},
     "output_type": "execute_result"
    }
   ],
   "source": [
    "np.identity(9)"
   ]
  },
  {
   "cell_type": "code",
   "execution_count": 17,
   "id": "543e13de-eabb-4ec1-b677-d73b186bbc59",
   "metadata": {},
   "outputs": [
    {
     "name": "stdout",
     "output_type": "stream",
     "text": [
      "[5 7 9]\n"
     ]
    }
   ],
   "source": [
    "a=np.array([1,2,3])\n",
    "b=np.array([4,5,6])\n",
    "print(a+b)"
   ]
  },
  {
   "cell_type": "markdown",
   "id": "ff7aa084-80a8-4ab0-8420-73850a590cf9",
   "metadata": {},
   "source": [
    "Linear Algebra Stuffs"
   ]
  },
  {
   "cell_type": "code",
   "execution_count": 20,
   "id": "a98e7a9e-fa7c-4e49-96ff-c1edd0912e79",
   "metadata": {},
   "outputs": [
    {
     "name": "stdout",
     "output_type": "stream",
     "text": [
      "[[1. 1. 1.]\n",
      " [1. 1. 1.]]\n",
      "[[2 2]\n",
      " [2 2]\n",
      " [2 2]]\n"
     ]
    },
    {
     "data": {
      "text/plain": [
       "array([[6., 6.],\n",
       "       [6., 6.]])"
      ]
     },
     "execution_count": 20,
     "metadata": {},
     "output_type": "execute_result"
    }
   ],
   "source": [
    "a=np.ones((2,3))\n",
    "print(a)\n",
    "\n",
    "b=np.full((3,2),2)\n",
    "print(b)\n",
    "np.matmul(a,b)"
   ]
  },
  {
   "cell_type": "code",
   "execution_count": 21,
   "id": "e4243d38-ab06-4c78-9339-9d5f8170fe96",
   "metadata": {},
   "outputs": [
    {
     "data": {
      "text/plain": [
       "np.float64(1.0)"
      ]
     },
     "execution_count": 21,
     "metadata": {},
     "output_type": "execute_result"
    }
   ],
   "source": [
    "c=np.identity(3)\n",
    "np.linalg.det(c)"
   ]
  },
  {
   "cell_type": "markdown",
   "id": "ff6ab80f-ed4a-4c49-80ad-5c38dfa74c8a",
   "metadata": {},
   "source": [
    "Statistics"
   ]
  },
  {
   "cell_type": "code",
   "execution_count": 23,
   "id": "b21596a5-0ef0-4459-9b15-a74320a3a71a",
   "metadata": {},
   "outputs": [
    {
     "data": {
      "text/plain": [
       "array([[1, 2, 3],\n",
       "       [4, 5, 6]])"
      ]
     },
     "execution_count": 23,
     "metadata": {},
     "output_type": "execute_result"
    }
   ],
   "source": [
    "stat=np.array([[1,2,3],[4,5,6]])\n",
    "stat"
   ]
  },
  {
   "cell_type": "code",
   "execution_count": 24,
   "id": "0bd94147-2823-4e18-b1ba-d99770a8e7d2",
   "metadata": {},
   "outputs": [
    {
     "data": {
      "text/plain": [
       "np.int64(1)"
      ]
     },
     "execution_count": 24,
     "metadata": {},
     "output_type": "execute_result"
    }
   ],
   "source": [
    "np.min(stat)"
   ]
  },
  {
   "cell_type": "code",
   "execution_count": 25,
   "id": "7e7bfc35-021d-4989-9ae1-105271cf7ca9",
   "metadata": {},
   "outputs": [
    {
     "data": {
      "text/plain": [
       "np.int64(6)"
      ]
     },
     "execution_count": 25,
     "metadata": {},
     "output_type": "execute_result"
    }
   ],
   "source": [
    "np.max(stat)"
   ]
  },
  {
   "cell_type": "markdown",
   "id": "a761fe1f-4daa-4e8b-acdf-3888bde3ae0d",
   "metadata": {},
   "source": [
    "Load from file"
   ]
  },
  {
   "cell_type": "code",
   "execution_count": 27,
   "id": "f0713695-6d7c-4f7f-9cf6-910e65f5a5b6",
   "metadata": {},
   "outputs": [
    {
     "data": {
      "text/plain": [
       "array([[1, 2, 3],\n",
       "       [4, 5, 6],\n",
       "       [7, 8, 9]])"
      ]
     },
     "execution_count": 27,
     "metadata": {},
     "output_type": "execute_result"
    }
   ],
   "source": [
    "np.genfromtxt('data.txt',delimiter=',',dtype='int')"
   ]
  },
  {
   "cell_type": "code",
   "execution_count": null,
   "id": "323f5c62-8679-403b-8b9c-b3a30d9aaba6",
   "metadata": {},
   "outputs": [],
   "source": []
  }
 ],
 "metadata": {
  "kernelspec": {
   "display_name": "Python 3 (ipykernel)",
   "language": "python",
   "name": "python3"
  },
  "language_info": {
   "codemirror_mode": {
    "name": "ipython",
    "version": 3
   },
   "file_extension": ".py",
   "mimetype": "text/x-python",
   "name": "python",
   "nbconvert_exporter": "python",
   "pygments_lexer": "ipython3",
   "version": "3.13.1"
  }
 },
 "nbformat": 4,
 "nbformat_minor": 5
}
