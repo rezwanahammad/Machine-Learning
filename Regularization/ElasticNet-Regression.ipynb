{
 "cells": [
  {
   "cell_type": "code",
   "execution_count": 1,
   "id": "94a21a88-0458-46dc-b50a-45e34e9c6b53",
   "metadata": {},
   "outputs": [],
   "source": [
    "from sklearn.linear_model import LinearRegression,Ridge,Lasso,ElasticNet\n",
    "from sklearn.model_selection import train_test_split\n",
    "from sklearn.metrics import r2_score"
   ]
  },
  {
   "cell_type": "code",
   "execution_count": 2,
   "id": "d297fe1a-d998-4443-89eb-10909935e2ac",
   "metadata": {},
   "outputs": [],
   "source": [
    "from sklearn.datasets import load_diabetes"
   ]
  },
  {
   "cell_type": "code",
   "execution_count": 3,
   "id": "31ba0559-bbdf-4560-a9e5-d812faa632e4",
   "metadata": {},
   "outputs": [],
   "source": [
    "X,y = load_diabetes(return_X_y= True)"
   ]
  },
  {
   "cell_type": "code",
   "execution_count": 4,
   "id": "f0a31685-b5f5-42e6-b3d9-b6de1eab6b53",
   "metadata": {},
   "outputs": [],
   "source": [
    "X_train,X_test,y_train,y_test = train_test_split(X,y,test_size=0.2,random_state=2)\n"
   ]
  },
  {
   "cell_type": "markdown",
   "id": "1829d420-bacb-4671-9e57-425aa7727fe5",
   "metadata": {},
   "source": [
    "### Linear Regression"
   ]
  },
  {
   "cell_type": "code",
   "execution_count": 7,
   "id": "7ea52c31-a76f-44b3-a005-69db738a3273",
   "metadata": {},
   "outputs": [
    {
     "data": {
      "text/plain": [
       "43.99338661568969"
      ]
     },
     "execution_count": 7,
     "metadata": {},
     "output_type": "execute_result"
    }
   ],
   "source": [
    "reg = LinearRegression()\n",
    "reg.fit(X_train,y_train)\n",
    "y_pred = reg.predict(X_test)\n",
    "r2_score(y_test,y_pred)*100"
   ]
  },
  {
   "cell_type": "markdown",
   "id": "0a93aad8-9a71-4aef-a4b1-9ad260d65b72",
   "metadata": {},
   "source": [
    "### Ridge regression"
   ]
  },
  {
   "cell_type": "code",
   "execution_count": 9,
   "id": "f8737828-6e39-4a1e-87ec-ee9e3c4deee5",
   "metadata": {},
   "outputs": [
    {
     "data": {
      "text/plain": [
       "45.199494197195456"
      ]
     },
     "execution_count": 9,
     "metadata": {},
     "output_type": "execute_result"
    }
   ],
   "source": [
    "reg = Ridge(alpha=0.1)\n",
    "reg.fit(X_train,y_train)\n",
    "y_pred = reg.predict(X_test)\n",
    "r2_score(y_test,y_pred)*100"
   ]
  },
  {
   "cell_type": "markdown",
   "id": "c16890ab-af48-466c-af53-d9f54c44d5e5",
   "metadata": {},
   "source": [
    "### Lasso Regression"
   ]
  },
  {
   "cell_type": "code",
   "execution_count": 10,
   "id": "3b85da86-5077-41d5-87c4-32c834d63c54",
   "metadata": {},
   "outputs": [
    {
     "data": {
      "text/plain": [
       "44.11185596311063"
      ]
     },
     "execution_count": 10,
     "metadata": {},
     "output_type": "execute_result"
    }
   ],
   "source": [
    "reg = Lasso(alpha=0.01)\n",
    "reg.fit(X_train,y_train)\n",
    "y_pred = reg.predict(X_test)\n",
    "r2_score(y_test,y_pred)*100"
   ]
  },
  {
   "cell_type": "markdown",
   "id": "1e4d5e43-02d5-4986-8797-cdf4277e3b0b",
   "metadata": {},
   "source": [
    "### ElasticNet Regression"
   ]
  },
  {
   "cell_type": "code",
   "execution_count": 11,
   "id": "68067e78-73a2-4fa7-b9de-3b98ea575006",
   "metadata": {},
   "outputs": [
    {
     "data": {
      "text/plain": [
       "45.31474541554823"
      ]
     },
     "execution_count": 11,
     "metadata": {},
     "output_type": "execute_result"
    }
   ],
   "source": [
    "reg =ElasticNet(alpha=0.005,l1_ratio=0.9)\n",
    "reg.fit(X_train,y_train)\n",
    "y_pred = reg.predict(X_test)\n",
    "r2_score(y_test,y_pred)*100"
   ]
  },
  {
   "cell_type": "code",
   "execution_count": null,
   "id": "0d57f3d3-b5d0-4484-9b6b-90c199aab8a4",
   "metadata": {},
   "outputs": [],
   "source": []
  }
 ],
 "metadata": {
  "kernelspec": {
   "display_name": "Python 3 (ipykernel)",
   "language": "python",
   "name": "python3"
  },
  "language_info": {
   "codemirror_mode": {
    "name": "ipython",
    "version": 3
   },
   "file_extension": ".py",
   "mimetype": "text/x-python",
   "name": "python",
   "nbconvert_exporter": "python",
   "pygments_lexer": "ipython3",
   "version": "3.13.1"
  }
 },
 "nbformat": 4,
 "nbformat_minor": 5
}
