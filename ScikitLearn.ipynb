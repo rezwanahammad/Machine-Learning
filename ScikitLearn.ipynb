{
 "cells": [
  {
   "cell_type": "code",
   "execution_count": 1,
   "id": "767928e9-12da-49fc-951e-474c59457506",
   "metadata": {},
   "outputs": [
    {
     "name": "stdout",
     "output_type": "stream",
     "text": [
      "Collecting scikit-learn==0.23.0\n",
      "  Downloading scikit-learn-0.23.0.tar.gz (7.2 MB)\n",
      "     ---------------------------------------- 0.0/7.2 MB ? eta -:--:--\n",
      "     - -------------------------------------- 0.3/7.2 MB ? eta -:--:--\n",
      "     ---- ----------------------------------- 0.8/7.2 MB 6.8 MB/s eta 0:00:01\n",
      "     ----- ---------------------------------- 1.0/7.2 MB 3.1 MB/s eta 0:00:02\n",
      "     -------- ------------------------------- 1.6/7.2 MB 2.4 MB/s eta 0:00:03\n",
      "     ----------- ---------------------------- 2.1/7.2 MB 2.4 MB/s eta 0:00:03\n",
      "     ------------- -------------------------- 2.4/7.2 MB 2.3 MB/s eta 0:00:03\n",
      "     ---------------- ----------------------- 2.9/7.2 MB 2.2 MB/s eta 0:00:02\n",
      "     ----------------- ---------------------- 3.1/7.2 MB 2.1 MB/s eta 0:00:02\n",
      "     -------------------- ------------------- 3.7/7.2 MB 2.1 MB/s eta 0:00:02\n",
      "     --------------------- ------------------ 3.9/7.2 MB 2.1 MB/s eta 0:00:02\n",
      "     ------------------------ --------------- 4.5/7.2 MB 2.0 MB/s eta 0:00:02\n",
      "     -------------------------- ------------- 4.7/7.2 MB 2.0 MB/s eta 0:00:02\n",
      "     ----------------------------- ---------- 5.2/7.2 MB 2.0 MB/s eta 0:00:01\n",
      "     ------------------------------ --------- 5.5/7.2 MB 2.0 MB/s eta 0:00:01\n",
      "     -------------------------------- ------- 5.8/7.2 MB 2.0 MB/s eta 0:00:01\n",
      "     ----------------------------------- ---- 6.3/7.2 MB 2.0 MB/s eta 0:00:01\n",
      "     ------------------------------------ --- 6.6/7.2 MB 2.0 MB/s eta 0:00:01\n",
      "     ---------------------------------------  7.1/7.2 MB 2.0 MB/s eta 0:00:01\n",
      "     ---------------------------------------- 7.2/7.2 MB 1.9 MB/s eta 0:00:00\n",
      "  Installing build dependencies: started\n",
      "  Installing build dependencies: finished with status 'error'\n",
      "Note: you may need to restart the kernel to use updated packages.\n"
     ]
    },
    {
     "name": "stderr",
     "output_type": "stream",
     "text": [
      "  error: subprocess-exited-with-error\n",
      "  \n",
      "  pip subprocess to install build dependencies did not run successfully.\n",
      "  exit code: 1\n",
      "  \n",
      "  [82 lines of output]\n",
      "  Ignoring numpy: markers 'python_version == \"3.6\" and platform_system != \"AIX\"' don't match your environment\n",
      "  Ignoring numpy: markers 'python_version == \"3.7\" and platform_system != \"AIX\"' don't match your environment\n",
      "  Ignoring numpy: markers 'python_version == \"3.6\" and platform_system == \"AIX\"' don't match your environment\n",
      "  Ignoring numpy: markers 'python_version == \"3.7\" and platform_system == \"AIX\"' don't match your environment\n",
      "  Ignoring numpy: markers 'python_version >= \"3.8\" and platform_system == \"AIX\"' don't match your environment\n",
      "  Collecting setuptools\n",
      "    Using cached setuptools-80.9.0-py3-none-any.whl.metadata (6.6 kB)\n",
      "  Collecting wheel\n",
      "    Downloading wheel-0.45.1-py3-none-any.whl.metadata (2.3 kB)\n",
      "  Collecting Cython>=0.28.5\n",
      "    Downloading cython-3.1.2-cp313-cp313-win_amd64.whl.metadata (6.0 kB)\n",
      "  Collecting numpy==1.17.3\n",
      "    Downloading numpy-1.17.3.zip (6.4 MB)\n",
      "       ---------------------------------------- 0.0/6.4 MB ? eta -:--:--\n",
      "       - -------------------------------------- 0.3/6.4 MB ? eta -:--:--\n",
      "       ---- ----------------------------------- 0.8/6.4 MB 7.0 MB/s eta 0:00:01\n",
      "       -------- ------------------------------- 1.3/6.4 MB 2.4 MB/s eta 0:00:03\n",
      "       --------- ------------------------------ 1.6/6.4 MB 2.5 MB/s eta 0:00:02\n",
      "       ------------- -------------------------- 2.1/6.4 MB 2.3 MB/s eta 0:00:02\n",
      "       -------------- ------------------------- 2.4/6.4 MB 2.1 MB/s eta 0:00:02\n",
      "       ------------------ --------------------- 2.9/6.4 MB 2.2 MB/s eta 0:00:02\n",
      "       ------------------- -------------------- 3.1/6.4 MB 2.1 MB/s eta 0:00:02\n",
      "       ----------------------- ---------------- 3.7/6.4 MB 2.1 MB/s eta 0:00:02\n",
      "       ------------------------ --------------- 3.9/6.4 MB 2.0 MB/s eta 0:00:02\n",
      "       ---------------------------- ----------- 4.5/6.4 MB 2.0 MB/s eta 0:00:01\n",
      "       ----------------------------- ---------- 4.7/6.4 MB 2.0 MB/s eta 0:00:01\n",
      "       -------------------------------- ------- 5.2/6.4 MB 2.0 MB/s eta 0:00:01\n",
      "       ---------------------------------- ----- 5.5/6.4 MB 2.0 MB/s eta 0:00:01\n",
      "       ------------------------------------- -- 6.0/6.4 MB 2.0 MB/s eta 0:00:01\n",
      "       ---------------------------------------  6.3/6.4 MB 1.9 MB/s eta 0:00:01\n",
      "       ---------------------------------------- 6.4/6.4 MB 1.9 MB/s eta 0:00:00\n",
      "    Installing build dependencies: started\n",
      "    Installing build dependencies: finished with status 'done'\n",
      "    Getting requirements to build wheel: started\n",
      "    Getting requirements to build wheel: finished with status 'done'\n",
      "    Preparing metadata (pyproject.toml): started\n",
      "    Preparing metadata (pyproject.toml): finished with status 'error'\n",
      "    error: subprocess-exited-with-error\n",
      "  \n",
      "    Preparing metadata (pyproject.toml) did not run successfully.\n",
      "    exit code: 1\n",
      "  \n",
      "    [28 lines of output]\n",
      "    Running from numpy source directory.\n",
      "    <string>:418: UserWarning: Unrecognized setuptools command, proceeding with generating Cython sources and expanding templates\n",
      "    Traceback (most recent call last):\n",
      "      File \"C:\\Users\\rezwa\\AppData\\Local\\Programs\\Python\\Python313\\Lib\\site-packages\\pip\\_vendor\\pyproject_hooks\\_in_process\\_in_process.py\", line 353, in <module>\n",
      "        main()\n",
      "        ~~~~^^\n",
      "      File \"C:\\Users\\rezwa\\AppData\\Local\\Programs\\Python\\Python313\\Lib\\site-packages\\pip\\_vendor\\pyproject_hooks\\_in_process\\_in_process.py\", line 335, in main\n",
      "        json_out['return_val'] = hook(**hook_input['kwargs'])\n",
      "                                 ~~~~^^^^^^^^^^^^^^^^^^^^^^^^\n",
      "      File \"C:\\Users\\rezwa\\AppData\\Local\\Programs\\Python\\Python313\\Lib\\site-packages\\pip\\_vendor\\pyproject_hooks\\_in_process\\_in_process.py\", line 149, in prepare_metadata_for_build_wheel\n",
      "        return hook(metadata_directory, config_settings)\n",
      "      File \"C:\\Users\\rezwa\\AppData\\Local\\Temp\\pip-build-env-bxxgqcbt\\overlay\\Lib\\site-packages\\setuptools\\build_meta.py\", line 374, in prepare_metadata_for_build_wheel\n",
      "        self.run_setup()\n",
      "        ~~~~~~~~~~~~~~^^\n",
      "      File \"C:\\Users\\rezwa\\AppData\\Local\\Temp\\pip-build-env-bxxgqcbt\\overlay\\Lib\\site-packages\\setuptools\\build_meta.py\", line 512, in run_setup\n",
      "        super().run_setup(setup_script=setup_script)\n",
      "        ~~~~~~~~~~~~~~~~~^^^^^^^^^^^^^^^^^^^^^^^^^^^\n",
      "      File \"C:\\Users\\rezwa\\AppData\\Local\\Temp\\pip-build-env-bxxgqcbt\\overlay\\Lib\\site-packages\\setuptools\\build_meta.py\", line 317, in run_setup\n",
      "        exec(code, locals())\n",
      "        ~~~~^^^^^^^^^^^^^^^^\n",
      "      File \"<string>\", line 443, in <module>\n",
      "      File \"<string>\", line 422, in setup_package\n",
      "      File \"C:\\Users\\rezwa\\AppData\\Local\\Temp\\pip-install-yeo2_nhi\\numpy_a4e6b29f316d49adb116251f60b35a62\\numpy\\distutils\\__init__.py\", line 6, in <module>\n",
      "        from . import ccompiler\n",
      "      File \"C:\\Users\\rezwa\\AppData\\Local\\Temp\\pip-install-yeo2_nhi\\numpy_a4e6b29f316d49adb116251f60b35a62\\numpy\\distutils\\ccompiler.py\", line 111, in <module>\n",
      "        replace_method(CCompiler, 'find_executables', CCompiler_find_executables)\n",
      "                       ^^^^^^^^^\n",
      "    NameError: name 'CCompiler' is not defined. Did you mean: 'ccompiler'?\n",
      "    [end of output]\n",
      "  \n",
      "    note: This error originates from a subprocess, and is likely not a problem with pip.\n",
      "  error: metadata-generation-failed\n",
      "  \n",
      "  Encountered error while generating package metadata.\n",
      "  \n",
      "  See above for output.\n",
      "  \n",
      "  note: This is an issue with the package mentioned above, not pip.\n",
      "  hint: See above for details.\n",
      "  [end of output]\n",
      "  \n",
      "  note: This error originates from a subprocess, and is likely not a problem with pip.\n",
      "\n",
      "[notice] A new release of pip is available: 24.3.1 -> 25.1.1\n",
      "[notice] To update, run: python.exe -m pip install --upgrade pip\n",
      "error: subprocess-exited-with-error\n",
      "\n",
      "pip subprocess to install build dependencies did not run successfully.\n",
      "exit code: 1\n",
      "\n",
      "See above for output.\n",
      "\n",
      "note: This error originates from a subprocess, and is likely not a problem with pip.\n"
     ]
    }
   ],
   "source": [
    "%pip install --upgrade scikit-learn==0.23.0"
   ]
  },
  {
   "cell_type": "code",
   "execution_count": 5,
   "id": "f2ae3015-1061-4826-bf31-39628bf08e98",
   "metadata": {},
   "outputs": [],
   "source": [
    "from sklearn.linear_model import LinearRegression"
   ]
  },
  {
   "cell_type": "code",
   "execution_count": 3,
   "id": "9699b999-f8df-43f2-8c9e-bf581b5dde9d",
   "metadata": {},
   "outputs": [],
   "source": [
    "mod=LinearRegression()"
   ]
  },
  {
   "cell_type": "code",
   "execution_count": 6,
   "id": "4e978c1c-eaee-4ea3-9e95-ba1b2fe1f308",
   "metadata": {},
   "outputs": [
    {
     "ename": "ModuleNotFoundError",
     "evalue": "No module named 'seaborn'",
     "output_type": "error",
     "traceback": [
      "\u001b[31m---------------------------------------------------------------------------\u001b[39m",
      "\u001b[31mModuleNotFoundError\u001b[39m                       Traceback (most recent call last)",
      "\u001b[36mCell\u001b[39m\u001b[36m \u001b[39m\u001b[32mIn[6]\u001b[39m\u001b[32m, line 3\u001b[39m\n\u001b[32m      1\u001b[39m \u001b[38;5;28;01mfrom\u001b[39;00m\u001b[38;5;250m \u001b[39m\u001b[34;01mnumpy\u001b[39;00m\u001b[38;5;250m \u001b[39m\u001b[38;5;28;01mimport\u001b[39;00m random\n\u001b[32m      2\u001b[39m \u001b[38;5;28;01mimport\u001b[39;00m\u001b[38;5;250m \u001b[39m\u001b[34;01mmatplotlib\u001b[39;00m\u001b[34;01m.\u001b[39;00m\u001b[34;01mpyplot\u001b[39;00m\u001b[38;5;250m \u001b[39m\u001b[38;5;28;01mas\u001b[39;00m\u001b[38;5;250m \u001b[39m\u001b[34;01mplt\u001b[39;00m\n\u001b[32m----> \u001b[39m\u001b[32m3\u001b[39m \u001b[38;5;28;01mimport\u001b[39;00m\u001b[38;5;250m \u001b[39m\u001b[34;01mseaborn\u001b[39;00m\u001b[38;5;250m \u001b[39m\u001b[38;5;28;01mas\u001b[39;00m\u001b[38;5;250m \u001b[39m\u001b[34;01msns\u001b[39;00m\n\u001b[32m      5\u001b[39m sns.displot(random.normal(size=\u001b[32m1000\u001b[39m), kind=\u001b[33m\"\u001b[39m\u001b[33mkde\u001b[39m\u001b[33m\"\u001b[39m)\n\u001b[32m      7\u001b[39m plt.show()\n",
      "\u001b[31mModuleNotFoundError\u001b[39m: No module named 'seaborn'"
     ]
    }
   ],
   "source": [
    "from numpy import random\n",
    "import matplotlib.pyplot as plt\n",
    "import seaborn as sns\n",
    "\n",
    "sns.displot(random.normal(size=1000), kind=\"kde\")\n",
    "\n",
    "plt.show()"
   ]
  },
  {
   "cell_type": "code",
   "execution_count": null,
   "id": "8bd121c3-77fb-4d53-a189-4bb1f55f612c",
   "metadata": {},
   "outputs": [],
   "source": []
  }
 ],
 "metadata": {
  "kernelspec": {
   "display_name": "Python 3 (ipykernel)",
   "language": "python",
   "name": "python3"
  },
  "language_info": {
   "codemirror_mode": {
    "name": "ipython",
    "version": 3
   },
   "file_extension": ".py",
   "mimetype": "text/x-python",
   "name": "python",
   "nbconvert_exporter": "python",
   "pygments_lexer": "ipython3",
   "version": "3.13.1"
  }
 },
 "nbformat": 4,
 "nbformat_minor": 5
}
