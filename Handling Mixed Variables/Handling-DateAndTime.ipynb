{
 "cells": [
  {
   "cell_type": "code",
   "execution_count": null,
   "id": "7e5b761b-5c2c-48fe-886c-90ef93aad2d5",
   "metadata": {},
   "outputs": [],
   "source": []
  }
 ],
 "metadata": {
  "kernelspec": {
   "display_name": "",
   "name": ""
  },
  "language_info": {
   "name": ""
  }
 },
 "nbformat": 4,
 "nbformat_minor": 5
}
