{
 "cells": [
  {
   "cell_type": "code",
   "execution_count": 1,
   "id": "d362ae83-5b9c-4a22-b84a-c09c4b4beca8",
   "metadata": {},
   "outputs": [],
   "source": [
    "classes=['A','B','C','D']\n",
    "instances=['A','B','C','D','A','B','C','D','A','B']"
   ]
  },
  {
   "cell_type": "code",
   "execution_count": 2,
   "id": "fcd0a3c9-ba2d-4874-88de-c172988fa2a2",
   "metadata": {},
   "outputs": [],
   "source": [
    "from sklearn.preprocessing import LabelEncoder"
   ]
  },
  {
   "cell_type": "code",
   "execution_count": 6,
   "id": "a88247aa-f67c-40e9-bcad-ac9f498a5a00",
   "metadata": {},
   "outputs": [
    {
     "data": {
      "text/plain": [
       "array([0, 1, 2, 3, 0, 1, 2, 3, 0, 1])"
      ]
     },
     "execution_count": 6,
     "metadata": {},
     "output_type": "execute_result"
    }
   ],
   "source": [
    "labelencoder=LabelEncoder()\n",
    "encoded_labels= labelencoder.fit_transform(instances)\n",
    "encoded_labels"
   ]
  },
  {
   "cell_type": "code",
   "execution_count": 8,
   "id": "e5a7e005-475f-4f55-9718-d0b4cc9584bb",
   "metadata": {},
   "outputs": [
    {
     "data": {
      "text/plain": [
       "array(['A', 'B', 'C', 'D', 'A', 'B', 'C', 'D', 'A', 'B'], dtype='<U1')"
      ]
     },
     "execution_count": 8,
     "metadata": {},
     "output_type": "execute_result"
    }
   ],
   "source": [
    "decoded_labels=labelencoder.inverse_transform(encoded_labels)\n",
    "decoded_labels"
   ]
  },
  {
   "cell_type": "code",
   "execution_count": null,
   "id": "74dbc5e4-9490-462a-a96b-28109c3fa10d",
   "metadata": {},
   "outputs": [],
   "source": []
  }
 ],
 "metadata": {
  "kernelspec": {
   "display_name": "Python 3 (ipykernel)",
   "language": "python",
   "name": "python3"
  },
  "language_info": {
   "codemirror_mode": {
    "name": "ipython",
    "version": 3
   },
   "file_extension": ".py",
   "mimetype": "text/x-python",
   "name": "python",
   "nbconvert_exporter": "python",
   "pygments_lexer": "ipython3",
   "version": "3.13.1"
  }
 },
 "nbformat": 4,
 "nbformat_minor": 5
}
