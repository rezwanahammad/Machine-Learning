{
 "cells": [
  {
   "cell_type": "markdown",
   "id": "4d59026c-80c9-4ff2-9140-d56bf2c7dfce",
   "metadata": {},
   "source": [
    " ### For Handling Nominal data"
   ]
  },
  {
   "cell_type": "code",
   "execution_count": null,
   "id": "d5724455-ebce-4116-a982-049b8dbfce39",
   "metadata": {},
   "outputs": [],
   "source": []
  }
 ],
 "metadata": {
  "kernelspec": {
   "display_name": "Python 3 (ipykernel)",
   "language": "python",
   "name": "python3"
  },
  "language_info": {
   "codemirror_mode": {
    "name": "ipython",
    "version": 3
   },
   "file_extension": ".py",
   "mimetype": "text/x-python",
   "name": "python",
   "nbconvert_exporter": "python",
   "pygments_lexer": "ipython3",
   "version": "3.13.1"
  }
 },
 "nbformat": 4,
 "nbformat_minor": 5
}
